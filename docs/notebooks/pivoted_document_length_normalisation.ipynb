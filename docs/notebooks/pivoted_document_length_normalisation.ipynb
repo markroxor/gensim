{
 "cells": [
  {
   "cell_type": "code",
   "execution_count": 1,
   "metadata": {
    "collapsed": false,
    "scrolled": true
   },
   "outputs": [
    {
     "name": "stderr",
     "output_type": "stream",
     "text": [
      "/usr/local/lib/python2.7/dist-packages/sklearn/cross_validation.py:41: DeprecationWarning: This module was deprecated in version 0.18 in favor of the model_selection module into which all the refactored classes and functions are moved. Also note that the interface of the new CV iterators are different from that of this module. This module will be removed in 0.20.\n",
      "  \"This module will be removed in 0.20.\", DeprecationWarning)\n"
     ]
    }
   ],
   "source": [
    "%matplotlib inline\n",
    "from sklearn.datasets import fetch_20newsgroups\n",
    "from sklearn.cross_validation import train_test_split\n",
    "from sklearn.linear_model import LogisticRegression\n",
    "\n",
    "from gensim.corpora import Dictionary\n",
    "from gensim.sklearn_api.tfidf import TfIdfTransformer\n",
    "from gensim.matutils import corpus2csc\n",
    "\n",
    "import numpy as np\n",
    "import matplotlib.pyplot as py\n",
    "import matplotlib.animation as animation"
   ]
  },
  {
   "cell_type": "code",
   "execution_count": 2,
   "metadata": {
    "collapsed": true
   },
   "outputs": [],
   "source": [
    "cats=['sci.space', 'comp.graphics']"
   ]
  },
  {
   "cell_type": "code",
   "execution_count": 3,
   "metadata": {
    "collapsed": false
   },
   "outputs": [],
   "source": [
    "newsgroups = fetch_20newsgroups(subset='train',\n",
    "                                categories=['sci.space', 'comp.graphics'])"
   ]
  },
  {
   "cell_type": "code",
   "execution_count": 4,
   "metadata": {
    "collapsed": false
   },
   "outputs": [],
   "source": [
    "X_train, X_test, y_train, y_test = train_test_split(newsgroups.data, newsgroups.target, random_state=49)\n",
    "\n",
    "id2word = Dictionary([_.split() for _ in X_train])\n",
    "\n",
    "train_corpus = [id2word.doc2bow(i.split()) for i in X_train]\n",
    "test_corpus = [id2word.doc2bow(i.split()) for i in X_test]"
   ]
  },
  {
   "cell_type": "code",
   "execution_count": 5,
   "metadata": {
    "collapsed": false
   },
   "outputs": [
    {
     "name": "stdout",
     "output_type": "stream",
     "text": [
      "(882, 295)\n"
     ]
    }
   ],
   "source": [
    "print (len(X_train), len(X_test))"
   ]
  },
  {
   "cell_type": "code",
   "execution_count": 6,
   "metadata": {
    "collapsed": false
   },
   "outputs": [],
   "source": [
    "# We perform our analysis on top k documents which is almost top 10% most scored documents\n",
    "k = len(X_test)/10"
   ]
  },
  {
   "cell_type": "code",
   "execution_count": 7,
   "metadata": {
    "collapsed": false
   },
   "outputs": [],
   "source": [
    "# Sort the document scores by their scores and return a sorted list \n",
    "# of document score and corresponding document lengths.\n",
    "def sortLengthByScore(doc_scores, X_test):\n",
    "    doc_scores = sorted(enumerate(doc_scores), key=lambda x: x[1])\n",
    "    doc_leng=np.empty(len(doc_scores))\n",
    "    ds=np.empty(len(doc_scores))\n",
    "    for i,_ in enumerate(doc_scores):\n",
    "        doc_leng[i]=len(X_test[_[0]])\n",
    "        ds[i]=_[1]\n",
    "    return ds, doc_leng"
   ]
  },
  {
   "cell_type": "code",
   "execution_count": 8,
   "metadata": {
    "collapsed": true
   },
   "outputs": [],
   "source": [
    "# This function returns the model accuracy and indivitual document prob values using\n",
    "# gensim's TfIdfTransformer and sklearn's LogisticRegression\n",
    "def getTfidfScores(kwargs):\n",
    "    tfidf_transformer = TfIdfTransformer(**kwargs).fit(train_corpus)\n",
    "\n",
    "    X_train_tfidf = corpus2csc(tfidf_transformer.transform(train_corpus), num_terms=len(id2word)).T\n",
    "    X_test_tfidf = corpus2csc(tfidf_transformer.transform(test_corpus), num_terms=len(id2word)).T\n",
    "\n",
    "    clf = LogisticRegression().fit(X_train_tfidf, y_train)\n",
    "\n",
    "    model_accuracy = clf.score(X_test_tfidf, y_test)\n",
    "    doc_scores = clf.decision_function(X_test_tfidf)\n",
    "    \n",
    "    return model_accuracy, doc_scores"
   ]
  },
  {
   "cell_type": "markdown",
   "metadata": {},
   "source": [
    "### Get TFIDF scores for corpus without pivoted document length normalisation"
   ]
  },
  {
   "cell_type": "code",
   "execution_count": 9,
   "metadata": {
    "collapsed": false
   },
   "outputs": [
    {
     "name": "stdout",
     "output_type": "stream",
     "text": [
      "0.9661016949152542\n"
     ]
    }
   ],
   "source": [
    "params = {}\n",
    "model_accuracy, doc_scores = getTfidfScores(params)\n",
    "print (model_accuracy)"
   ]
  },
  {
   "cell_type": "code",
   "execution_count": 10,
   "metadata": {
    "collapsed": false
   },
   "outputs": [
    {
     "name": "stdout",
     "output_type": "stream",
     "text": [
      "Normal cosine normalisation favors short documents as our top 29 docs have a smaller mean doc length of 878.551724138 compared to the corpus mean doc length of 1686.73898305\n"
     ]
    }
   ],
   "source": [
    "print (\"Normal cosine normalisation favors short documents as our top {} docs have a smaller mean doc length of {} compared to the corpus mean doc length of {}\"\n",
    "       .format(k,  sortLengthByScore(doc_scores, X_test)[1][:k].mean(), sortLengthByScore(doc_scores, X_test)[1].mean()))"
   ]
  },
  {
   "cell_type": "markdown",
   "metadata": {},
   "source": [
    "### Get TFIDF scores for corpus with pivoted document length normalisation testing on various values of alpha."
   ]
  },
  {
   "cell_type": "code",
   "execution_count": 11,
   "metadata": {
    "collapsed": false
   },
   "outputs": [
    {
     "name": "stdout",
     "output_type": "stream",
     "text": [
      "Score for slope 0.0 is 0.95593220339\n",
      "Score for slope 0.1 is 0.95593220339\n",
      "Score for slope 0.2 is 0.959322033898\n",
      "Score for slope 0.3 is 0.966101694915\n",
      "Score for slope 0.4 is 0.969491525424\n",
      "Score for slope 0.5 is 0.972881355932\n",
      "Score for slope 0.6 is 0.972881355932\n",
      "Score for slope 0.7 is 0.972881355932\n",
      "Score for slope 0.8 is 0.972881355932\n",
      "Score for slope 0.9 is 0.972881355932\n",
      "Score for slope 1.0 is 0.966101694915\n",
      "We get best score of 0.972881355932 at slope 0.5\n"
     ]
    }
   ],
   "source": [
    "best_model_accuracy = 0\n",
    "optimum_slope = 0\n",
    "for slope in np.arange(0,1.1, 0.1):\n",
    "    params = {\"pivot_norm\":True, \"slope\":slope}\n",
    "\n",
    "    model_accuracy, doc_scores = getTfidfScores(params)\n",
    "    \n",
    "    if model_accuracy>best_model_accuracy:\n",
    "        best_model_accuracy = model_accuracy\n",
    "        optimum_slope = slope\n",
    "        \n",
    "    print (\"Score for slope {} is {}\".format(slope, model_accuracy))\n",
    "    \n",
    "print (\"We get best score of {} at slope {}\".format(best_model_accuracy, optimum_slope))"
   ]
  },
  {
   "cell_type": "code",
   "execution_count": 12,
   "metadata": {
    "collapsed": false
   },
   "outputs": [
    {
     "name": "stdout",
     "output_type": "stream",
     "text": [
      "0.9728813559322034\n"
     ]
    }
   ],
   "source": [
    "params = {\"pivot_norm\":True, \"slope\":optimum_slope}\n",
    "model_accuracy, doc_scores = getTfidfScores(params)\n",
    "print (model_accuracy)"
   ]
  },
  {
   "cell_type": "code",
   "execution_count": 13,
   "metadata": {
    "collapsed": false
   },
   "outputs": [
    {
     "name": "stdout",
     "output_type": "stream",
     "text": [
      "With pivoted normalisation top 29 docs have mean length of 1399.86206897 which is much closer to the corpus mean doc length of 1686.73898305\n"
     ]
    }
   ],
   "source": [
    "print (\"With pivoted normalisation top {} docs have mean length of {} which is much closer to the corpus mean doc length of {}\"\n",
    "       .format(k, sortLengthByScore(doc_scores, X_test)[1][:k].mean(), sortLengthByScore(doc_scores, X_test)[1].mean()))"
   ]
  },
  {
   "cell_type": "markdown",
   "metadata": {},
   "source": [
    "## Visualizing the pivoted normalization"
   ]
  },
  {
   "cell_type": "code",
   "execution_count": 14,
   "metadata": {
    "collapsed": false,
    "scrolled": true
   },
   "outputs": [
    {
     "name": "stdout",
     "output_type": "stream",
     "text": [
      "Score for slope 1.0 is 0.966101694915\n",
      "Score for slope 0.9 is 0.972881355932\n",
      "Score for slope 0.8 is 0.972881355932\n",
      "Score for slope 0.7 is 0.972881355932\n",
      "Score for slope 0.6 is 0.972881355932\n",
      "Score for slope 0.5 is 0.972881355932\n",
      "Score for slope 0.4 is 0.969491525424\n",
      "Score for slope 0.3 is 0.966101694915\n",
      "Score for slope 0.2 is 0.959322033898\n",
      "Score for slope 0.1 is 0.95593220339\n",
      "Score for slope 0.0 is 0.95593220339\n"
     ]
    },
    {
     "name": "stderr",
     "output_type": "stream",
     "text": [
      "/usr/local/lib/python2.7/dist-packages/matplotlib/collections.py:590: FutureWarning: elementwise comparison failed; returning scalar instead, but in the future will perform elementwise comparison\n",
      "  if self._edgecolors == str('face'):\n"
     ]
    },
    {
     "data": {
      "image/png": "[encoded data removed]",
      "text/plain": [
       "<matplotlib.figure.Figure at 0x7fb413a81f90>"
      ]
     },
     "metadata": {},
     "output_type": "display_data"
    }
   ],
   "source": [
    "py.close('all') \n",
    "\n",
    "fig = py.figure(1)\n",
    "ax = py.axes(xlim=(0,2), ylim=(0, 2000))\n",
    "\n",
    "ax.set_xlabel('Document score')\n",
    "ax.set_ylabel('Document length')\n",
    "\n",
    "scat = ax.scatter([], [], s=60)\n",
    "ttl = ax.text(.5, 1.05, '', transform = ax.transAxes, va='center')\n",
    "\n",
    "def init():\n",
    "    scat.set_offsets([])\n",
    "    return scat,ttl\n",
    "\n",
    "def animate(i):\n",
    "    slope = 1-i/10.0\n",
    "    \n",
    "    ttl.set_text(\"slope =\"+str(slope))\n",
    "    params = {\"pivot_norm\":True, \"slope\":slope}\n",
    "\n",
    "    model_accuracy, doc_scores = getTfidfScores(params)\n",
    "\n",
    "    print (\"Score for slope {} is {}\".format(slope, model_accuracy))\n",
    "    doc_scores, doc_leng = sortLengthByScore(doc_scores, X_test)\n",
    "\n",
    "    data = np.hstack((abs(doc_scores[:k,np.newaxis]), doc_leng[:k, np.newaxis]))\n",
    "    scat.set_offsets(data)\n",
    "    return scat,ttl\n",
    "\n",
    "anim = animation.FuncAnimation(fig, animate, init_func=init, frames=11, \n",
    "                               interval=1000, blit=False, repeat=False)\n",
    "\n",
    "anim.save('line.gif', dpi=80, writer='imagemagick')"
   ]
  },
  {
   "cell_type": "markdown",
   "metadata": {},
   "source": [
    "<img src=\"line.gif\">"
   ]
  },
  {
   "cell_type": "markdown",
   "metadata": {},
   "source": [
    "Since cosine normalization favors retrieval of short documents from the plot we can see that when slope was 1 (when pivoted normalisation was not applied) short documents with length of around 500 had very good score hence the bias for short documents can be seen. As we varied the value of slope from 1 to 0 we introdcued a new bias for long documents to counter the bias caused by cosine normalisation. Therefore at a certain point we got an optimum value of slope which is 0.5 where the overall accuracy of the model is increased.\n"
   ]
  }
 ],
 "metadata": {
  "kernelspec": {
   "display_name": "Python 2",
   "language": "python",
   "name": "python2"
  },
  "language_info": {
   "codemirror_mode": {
    "name": "ipython",
    "version": 2
   },
   "file_extension": ".py",
   "mimetype": "text/x-python",
   "name": "python",
   "nbconvert_exporter": "python",
   "pygments_lexer": "ipython2",
   "version": "2.7.12"
  }
 },
 "nbformat": 4,
 "nbformat_minor": 1
}
