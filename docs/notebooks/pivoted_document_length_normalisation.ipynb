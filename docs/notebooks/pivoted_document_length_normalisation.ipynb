{
 "cells": [
  {
   "cell_type": "code",
   "execution_count": 1,
   "metadata": {
    "collapsed": false,
    "scrolled": true
   },
   "outputs": [
    {
     "name": "stderr",
     "output_type": "stream",
     "text": [
      "/usr/local/lib/python2.7/dist-packages/sklearn/cross_validation.py:41: DeprecationWarning: This module was deprecated in version 0.18 in favor of the model_selection module into which all the refactored classes and functions are moved. Also note that the interface of the new CV iterators are different from that of this module. This module will be removed in 0.20.\n",
      "  \"This module will be removed in 0.20.\", DeprecationWarning)\n"
     ]
    }
   ],
   "source": [
    "%matplotlib inline\n",
    "from sklearn.datasets import fetch_20newsgroups\n",
    "from sklearn.cross_validation import train_test_split\n",
    "from sklearn.linear_model import LogisticRegression\n",
    "\n",
    "from gensim.corpora import Dictionary\n",
    "from gensim.sklearn_api.tfidf import TfIdfTransformer\n",
    "from gensim.matutils import corpus2csc\n",
    "\n",
    "import numpy as np\n",
    "import matplotlib.pyplot as py\n",
    "from matplotlib import animation"
   ]
  },
  {
   "cell_type": "code",
   "execution_count": 2,
   "metadata": {
    "collapsed": true
   },
   "outputs": [],
   "source": [
    "cats=['sci.space', 'comp.graphics']\n",
    "k=20"
   ]
  },
  {
   "cell_type": "code",
   "execution_count": 3,
   "metadata": {
    "collapsed": false
   },
   "outputs": [],
   "source": [
    "newsgroups = fetch_20newsgroups(subset='train',\n",
    "                                categories=['sci.space', 'comp.graphics'])"
   ]
  },
  {
   "cell_type": "code",
   "execution_count": 4,
   "metadata": {
    "collapsed": false
   },
   "outputs": [],
   "source": [
    "X_train, X_test, y_train, y_test = train_test_split(newsgroups.data, newsgroups.target, random_state=49)\n",
    "\n",
    "id2word = Dictionary([_.split() for _ in X_train])\n",
    "\n",
    "train_corpus = [id2word.doc2bow(i.split()) for i in X_train]\n",
    "test_corpus = [id2word.doc2bow(i.split()) for i in X_test]"
   ]
  },
  {
   "cell_type": "code",
   "execution_count": 5,
   "metadata": {
    "collapsed": false
   },
   "outputs": [],
   "source": [
    "def sortLengthByScore(doc_scores, X_test):\n",
    "    doc_scores = sorted(enumerate(doc_scores), key=lambda x: x[1])\n",
    "    doc_leng=np.empty(len(doc_scores))\n",
    "    ds=np.empty(len(doc_scores))\n",
    "    for i,_ in enumerate(doc_scores):\n",
    "        doc_leng[i]=len(X_test[_[0]])\n",
    "        ds[i]=_[1]\n",
    "    return ds, doc_leng"
   ]
  },
  {
   "cell_type": "code",
   "execution_count": 6,
   "metadata": {
    "collapsed": false
   },
   "outputs": [],
   "source": [
    "def plot(x, y):\n",
    "    axes = plt.gca()\n",
    "    axes.set_ylim([0,2000])\n",
    "    axes.set_xlim([-2,2])\n",
    "\n",
    "    plt.scatter(x, y)\n",
    "    plt.show()"
   ]
  },
  {
   "cell_type": "code",
   "execution_count": 7,
   "metadata": {
    "collapsed": true
   },
   "outputs": [],
   "source": [
    "def getScores(kwargs):\n",
    "    tfidf_transformer = TfIdfTransformer(**kwargs).fit(train_corpus)\n",
    "    X_train_tfidf = corpus2csc(tfidf_transformer.transform(train_corpus), num_terms=len(id2word)).T\n",
    "    X_test_tfidf = corpus2csc(tfidf_transformer.transform(test_corpus), num_terms=len(id2word)).T\n",
    "    clf = LogisticRegression().fit(X_train_tfidf, y_train)\n",
    "    cur_score = clf.score(X_test_tfidf, y_test)\n",
    "    doc_scores = clf.decision_function(X_test_tfidf)\n",
    "    \n",
    "    return cur_score, doc_scores"
   ]
  },
  {
   "cell_type": "code",
   "execution_count": 8,
   "metadata": {
    "collapsed": false
   },
   "outputs": [
    {
     "name": "stdout",
     "output_type": "stream",
     "text": [
      "Score for slope 0.0 is 0.95593220339\n",
      "Score for slope 0.1 is 0.95593220339\n",
      "Score for slope 0.2 is 0.959322033898\n",
      "Score for slope 0.3 is 0.966101694915\n",
      "Score for slope 0.4 is 0.969491525424\n",
      "Score for slope 0.5 is 0.972881355932\n",
      "Score for slope 0.6 is 0.972881355932\n",
      "Score for slope 0.7 is 0.972881355932\n",
      "Score for slope 0.8 is 0.972881355932\n",
      "Score for slope 0.9 is 0.972881355932\n",
      "Score for slope 1.0 is 0.966101694915\n",
      "We get best score 0.972881355932 at slope 0.5\n"
     ]
    }
   ],
   "source": [
    "import matplotlib.animation as animation\n",
    "best_score = 0\n",
    "best_slope = 0\n",
    "\n",
    "\n",
    "ims = []\n",
    "\n",
    "\n",
    "\n",
    "for slope in np.arange(0,1.1, 0.1):\n",
    "    params = {\"pivot_norm\":True, \"slope\":slope}\n",
    "\n",
    "    cur_score, doc_scores = getScores(params)\n",
    "    \n",
    "    if cur_score>best_score:\n",
    "        best_score = cur_score\n",
    "        best_slope = slope\n",
    "    print (\"Score for slope {} is {}\".format(slope, cur_score))\n",
    "    \n",
    "print (\"We get best score {} at slope {}\".format(best_score, best_slope))"
   ]
  },
  {
   "cell_type": "code",
   "execution_count": 9,
   "metadata": {
    "collapsed": false
   },
   "outputs": [
    {
     "name": "stdout",
     "output_type": "stream",
     "text": [
      "0.9728813559322034\n"
     ]
    }
   ],
   "source": [
    "params = {\"pivot_norm\":True, \"slope\":0.6}\n",
    "cur_score, doc_scores = getScores(params)\n",
    "print (cur_score)"
   ]
  },
  {
   "cell_type": "code",
   "execution_count": 10,
   "metadata": {
    "collapsed": false
   },
   "outputs": [
    {
     "name": "stdout",
     "output_type": "stream",
     "text": [
      "With pivoted normalisation top 20 docs have mean length 1387.3 which is closer to the global mean doc length 1686.73898305\n"
     ]
    }
   ],
   "source": [
    "print (\"With pivoted normalisation top {} docs have mean length {} which is closer to the global mean doc length {}\"\n",
    "       .format(k, sortLengthByScore(doc_scores, X_test)[1][:k].mean(), sortLengthByScore(doc_scores, X_test)[1].mean()))"
   ]
  },
  {
   "cell_type": "code",
   "execution_count": null,
   "metadata": {
    "collapsed": true
   },
   "outputs": [],
   "source": []
  },
  {
   "cell_type": "code",
   "execution_count": null,
   "metadata": {
    "collapsed": true
   },
   "outputs": [],
   "source": []
  },
  {
   "cell_type": "code",
   "execution_count": 11,
   "metadata": {
    "collapsed": false
   },
   "outputs": [
    {
     "name": "stdout",
     "output_type": "stream",
     "text": [
      "0.9661016949152542\n"
     ]
    }
   ],
   "source": [
    "params = {}\n",
    "cur_score, doc_scores = getScores(params)\n",
    "print (cur_score)"
   ]
  },
  {
   "cell_type": "code",
   "execution_count": 12,
   "metadata": {
    "collapsed": false
   },
   "outputs": [
    {
     "name": "stdout",
     "output_type": "stream",
     "text": [
      "Normal cosine normalisation favors short documents as our top 20 docs have a smaller mean doc length 869.8 compared to the global mean doc length 1686.73898305\n"
     ]
    }
   ],
   "source": [
    "print (\"Normal cosine normalisation favors short documents as our top {} docs have a smaller mean doc length {} compared to the global mean doc length {}\"\n",
    "       .format(k, sortLengthByScore(doc_scores, X_test)[1][:k].mean(), sortLengthByScore(doc_scores, X_test)[1].mean()))"
   ]
  },
  {
   "cell_type": "markdown",
   "metadata": {},
   "source": [
    "## Visualizing the pivoted normalization"
   ]
  },
  {
   "cell_type": "code",
   "execution_count": 13,
   "metadata": {
    "collapsed": false
   },
   "outputs": [
    {
     "name": "stdout",
     "output_type": "stream",
     "text": [
      "Score for slope 1.0 is 0.966101694915\n",
      "Score for slope 0.9 is 0.972881355932\n",
      "Score for slope 0.8 is 0.972881355932\n",
      "Score for slope 0.7 is 0.972881355932\n",
      "Score for slope 0.6 is 0.972881355932\n",
      "Score for slope 0.5 is 0.972881355932\n",
      "Score for slope 0.4 is 0.969491525424\n",
      "Score for slope 0.3 is 0.966101694915\n",
      "Score for slope 0.2 is 0.959322033898\n",
      "Score for slope 0.1 is 0.95593220339\n",
      "Score for slope 0.0 is 0.95593220339\n"
     ]
    },
    {
     "name": "stderr",
     "output_type": "stream",
     "text": [
      "/usr/local/lib/python2.7/dist-packages/matplotlib/collections.py:590: FutureWarning: elementwise comparison failed; returning scalar instead, but in the future will perform elementwise comparison\n",
      "  if self._edgecolors == str('face'):\n"
     ]
    },
    {
     "data": {
      "image/png": "[encoded data removed]",
      "text/plain": [
       "<matplotlib.figure.Figure at 0x7f84dc2afbd0>"
      ]
     },
     "metadata": {},
     "output_type": "display_data"
    }
   ],
   "source": [
    "py.close('all') \n",
    "\n",
    "fig = py.figure(1)\n",
    "ax = py.axes(xlim=(0,2), ylim=(0, 2000))\n",
    "\n",
    "ax.set_xlabel('Document score')\n",
    "ax.set_ylabel('Document length')\n",
    "\n",
    "scat = ax.scatter([], [], s=60)\n",
    "ttl = ax.text(.5, 1.05, '', transform = ax.transAxes, va='center')\n",
    "ttl.set_text('a')\n",
    "\n",
    "best_score = 0\n",
    "best_slope = 0\n",
    "\n",
    "def init():\n",
    "    scat.set_offsets([])\n",
    "    return scat,ttl\n",
    "\n",
    "def animate(i):\n",
    "    slope = 1-i/10.0\n",
    "    ttl.set_text(\"slope =\"+str(slope))\n",
    "    params = {\"pivot_norm\":True, \"slope\":slope}\n",
    "\n",
    "    cur_score, doc_scores = getScores(params)\n",
    "\n",
    "\n",
    "    print (\"Score for slope {} is {}\".format(slope, cur_score))\n",
    "    doc_scores, doc_leng = sortLengthByScore(doc_scores, X_test)\n",
    "\n",
    "    data = np.hstack((abs(doc_scores[:k,np.newaxis]), doc_leng[:k, np.newaxis]))\n",
    "    scat.set_offsets(data)\n",
    "    return scat,ttl\n",
    "\n",
    "anim = animation.FuncAnimation(fig, animate, init_func=init, frames=11, \n",
    "                               interval=1000, blit=False, repeat=False)\n",
    "\n",
    "anim.save('line.gif', dpi=80, writer='imagemagick')"
   ]
  },
  {
   "cell_type": "markdown",
   "metadata": {},
   "source": [
    "<img src=\"line.gif\">"
   ]
  },
  {
   "cell_type": "markdown",
   "metadata": {},
   "source": [
    "Since cosine normalization favors retrieval of short documents from the plot we can see that when slope was 1 (when pivoted normalisation was not applied) short documents with length of around 500 had very good score hence the bias for short documents can be seen.\n",
    "As we varied the value of slope from 1 to 0 we introdcued a new bias for long documents to counter the bias caused by cosine normalisation. Therefore at a certain point we got an optimum value of slope which is 0.6 where the overall accuracy of the model is increased.\n"
   ]
  },
  {
   "cell_type": "code",
   "execution_count": null,
   "metadata": {
    "collapsed": true
   },
   "outputs": [],
   "source": []
  }
 ],
 "metadata": {
  "kernelspec": {
   "display_name": "Python 2",
   "language": "python",
   "name": "python2"
  },
  "language_info": {
   "codemirror_mode": {
    "name": "ipython",
    "version": 2
   },
   "file_extension": ".py",
   "mimetype": "text/x-python",
   "name": "python",
   "nbconvert_exporter": "python",
   "pygments_lexer": "ipython2",
   "version": "2.7.12"
  }
 },
 "nbformat": 4,
 "nbformat_minor": 1
}
