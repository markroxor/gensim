{
 "cells": [
  {
   "cell_type": "markdown",
   "metadata": {},
   "source": [
    "## Pivoted document length normalization\n",
    "It is seen that in *many* cases normalizing the tfidf weights for each terms tends to favor weight of terms of the documents with shorter length. Pivoted document length normalization scheme brings a pivoting scheme on the table which can be used to counter the effect of this bias for short documents by making tfidf independent of the document length.\n",
    "\n",
    "This is achieved by *tilting* the normalization curve along the pivot point defined by user with some slope. Roughly following the equation -  \n",
    "`pivoted_norm = (1 - slope) * pivot + slope * old_norm`\n",
    "\n",
    "This scheme is proposed in the paper [pivoted document length normalization](http://singhal.info/pivoted-dln.pdf)\n",
    "\n",
    "Overall this approach can in many cases help increase the accuracy of the model where the document lengths are hugely varying in the enitre corpus."
   ]
  },
  {
   "cell_type": "code",
   "execution_count": 1,
   "metadata": {
    "collapsed": true,
    "scrolled": true
   },
   "outputs": [],
   "source": [
    "%matplotlib inline\n",
    "from sklearn.linear_model import LogisticRegression\n",
    "\n",
    "from gensim.corpora import Dictionary\n",
    "from gensim.sklearn_api.tfidf import TfIdfTransformer\n",
    "from gensim.matutils import corpus2csc\n",
    "\n",
    "import numpy as np\n",
    "import matplotlib.pyplot as py\n",
    "\n",
    "import gensim.downloader as api"
   ]
  },
  {
   "cell_type": "code",
   "execution_count": 2,
   "metadata": {
    "collapsed": true
   },
   "outputs": [],
   "source": [
    "# This function returns the model accuracy and indivitual document prob values using\n",
    "# gensim's TfIdfTransformer and sklearn's LogisticRegression\n",
    "def get_tfidf_scores(kwargs):\n",
    "    tfidf_transformer = TfIdfTransformer(**kwargs).fit(train_corpus)\n",
    "\n",
    "    X_train_tfidf = corpus2csc(tfidf_transformer.transform(train_corpus), num_terms=len(id2word)).T\n",
    "    X_test_tfidf = corpus2csc(tfidf_transformer.transform(test_corpus), num_terms=len(id2word)).T\n",
    "\n",
    "    clf = LogisticRegression().fit(X_train_tfidf, y_train)\n",
    "\n",
    "    model_accuracy = clf.score(X_test_tfidf, y_test)\n",
    "    doc_scores = clf.decision_function(X_test_tfidf)\n",
    "\n",
    "    return model_accuracy, doc_scores"
   ]
  },
  {
   "cell_type": "code",
   "execution_count": 3,
   "metadata": {
    "collapsed": true
   },
   "outputs": [],
   "source": [
    "# Sort the document scores by their scores and return a sorted list\n",
    "# of document score and corresponding document lengths.\n",
    "def sort_length_by_score(doc_scores, X_test):\n",
    "    doc_scores = sorted(enumerate(doc_scores), key=lambda x: x[1])\n",
    "    doc_leng = np.empty(len(doc_scores))\n",
    "\n",
    "    ds = np.empty(len(doc_scores))\n",
    "\n",
    "    for i, _ in enumerate(doc_scores):\n",
    "        doc_leng[i] = len(X_test[_[0]])\n",
    "        ds[i] = _[1]\n",
    "\n",
    "    return ds, doc_leng"
   ]
  },
  {
   "cell_type": "code",
   "execution_count": 4,
   "metadata": {
    "collapsed": false
   },
   "outputs": [],
   "source": [
    "nws = api.load(\"20-newsgroups\")"
   ]
  },
  {
   "cell_type": "code",
   "execution_count": 5,
   "metadata": {
    "collapsed": true
   },
   "outputs": [],
   "source": [
    "cat1, cat2 = ('sci.electronics', 'sci.space')"
   ]
  },
  {
   "cell_type": "code",
   "execution_count": 6,
   "metadata": {
    "collapsed": true
   },
   "outputs": [],
   "source": [
    "X_train = []\n",
    "X_test = []\n",
    "y_train = []\n",
    "y_test = []\n",
    "\n",
    "# TODO: better way?\n",
    "for i in nws:\n",
    "    if i[\"set\"] == \"train\" and i[\"topic\"] == cat1:\n",
    "        X_train.append(i[\"data\"])\n",
    "        y_train.append(0)\n",
    "    elif i[\"set\"] == \"train\" and i[\"topic\"] == cat2:\n",
    "        X_train.append(i[\"data\"])\n",
    "        y_train.append(1)\n",
    "    elif i[\"set\"] == \"test\" and i[\"topic\"] == cat1:\n",
    "        X_test.append(i[\"data\"])\n",
    "        y_test.append(0)\n",
    "    elif i[\"set\"] == \"test\" and i[\"topic\"] == cat2:\n",
    "        X_test.append(i[\"data\"])\n",
    "        y_test.append(1)"
   ]
  },
  {
   "cell_type": "code",
   "execution_count": 7,
   "metadata": {
    "collapsed": true
   },
   "outputs": [],
   "source": [
    "id2word = Dictionary([_.split() for _ in X_train])\n",
    "\n",
    "train_corpus = [id2word.doc2bow(i.split()) for i in X_train]\n",
    "test_corpus = [id2word.doc2bow(i.split()) for i in X_test]"
   ]
  },
  {
   "cell_type": "code",
   "execution_count": 8,
   "metadata": {
    "collapsed": false
   },
   "outputs": [
    {
     "name": "stdout",
     "output_type": "stream",
     "text": [
      "(1184, 787)\n"
     ]
    }
   ],
   "source": [
    "print(len(X_train), len(X_test))"
   ]
  },
  {
   "cell_type": "code",
   "execution_count": 9,
   "metadata": {
    "collapsed": true
   },
   "outputs": [],
   "source": [
    "# We perform our analysis on top k documents which is almost top 10% most scored documents\n",
    "k = len(X_test) / 10"
   ]
  },
  {
   "cell_type": "markdown",
   "metadata": {},
   "source": [
    "### Get TFIDF scores for corpus without pivoted document length normalisation"
   ]
  },
  {
   "cell_type": "code",
   "execution_count": 10,
   "metadata": {
    "collapsed": false
   },
   "outputs": [
    {
     "name": "stdout",
     "output_type": "stream",
     "text": [
      "0.9440914866581956\n"
     ]
    }
   ],
   "source": [
    "params = {}\n",
    "model_accuracy, doc_scores = get_tfidf_scores(params)\n",
    "print(model_accuracy)"
   ]
  },
  {
   "cell_type": "code",
   "execution_count": 11,
   "metadata": {
    "collapsed": false
   },
   "outputs": [
    {
     "name": "stdout",
     "output_type": "stream",
     "text": [
      "Normal cosine normalisation favors short documents as our top 78    docs have a smaller mean doc length of 1290.07692308 compared to the corpus mean doc length of 1577.79923761\n"
     ]
    }
   ],
   "source": [
    "print (\"Normal cosine normalisation favors short documents as our top {}\\\n",
    "    docs have a smaller mean doc length of {} compared to the corpus mean doc length of {}\"\n",
    "    .format(k, sort_length_by_score(doc_scores, X_test)[1][:k].mean(),\n",
    "    sort_length_by_score(doc_scores, X_test)[1].mean()))"
   ]
  },
  {
   "cell_type": "markdown",
   "metadata": {},
   "source": [
    "### Get TFIDF scores for corpus with pivoted document length normalisation testing on various values of alpha."
   ]
  },
  {
   "cell_type": "code",
   "execution_count": 12,
   "metadata": {
    "collapsed": false
   },
   "outputs": [
    {
     "name": "stdout",
     "output_type": "stream",
     "text": [
      "Score for slope 0.0 is 0.921219822109\n",
      "Score for slope 0.1 is 0.92249047014\n",
      "Score for slope 0.2 is 0.925031766201\n",
      "Score for slope 0.3 is 0.926302414231\n",
      "Score for slope 0.4 is 0.931385006353\n",
      "Score for slope 0.5 is 0.937738246506\n",
      "Score for slope 0.6 is 0.939008894536\n",
      "Score for slope 0.7 is 0.944091486658\n",
      "Score for slope 0.8 is 0.942820838628\n",
      "Score for slope 0.9 is 0.945362134689\n",
      "Score for slope 1.0 is 0.944091486658\n",
      "We get best score of 0.945362134689 at slope 0.9\n"
     ]
    }
   ],
   "source": [
    "best_model_accuracy = 0\n",
    "optimum_slope = 0\n",
    "for slope in np.arange(0, 1.1, 0.1):\n",
    "    params = {\"pivot\": 100, \"slope\": slope}\n",
    "\n",
    "    model_accuracy, doc_scores = get_tfidf_scores(params)\n",
    "\n",
    "    if model_accuracy > best_model_accuracy:\n",
    "        best_model_accuracy = model_accuracy\n",
    "        optimum_slope = slope\n",
    "\n",
    "    print (\"Score for slope {} is {}\".format(slope, model_accuracy))\n",
    "\n",
    "print (\"We get best score of {} at slope {}\".format(best_model_accuracy, optimum_slope))"
   ]
  },
  {
   "cell_type": "code",
   "execution_count": 13,
   "metadata": {
    "collapsed": false
   },
   "outputs": [
    {
     "name": "stdout",
     "output_type": "stream",
     "text": [
      "0.9453621346886912\n"
     ]
    }
   ],
   "source": [
    "params = {\"pivot\": 100, \"slope\": optimum_slope}\n",
    "model_accuracy, doc_scores = get_tfidf_scores(params)\n",
    "print (model_accuracy)"
   ]
  },
  {
   "cell_type": "code",
   "execution_count": 14,
   "metadata": {
    "collapsed": false
   },
   "outputs": [
    {
     "name": "stdout",
     "output_type": "stream",
     "text": [
      "With pivoted normalisation top 78 docs have mean length of 1432.05128205   which is much closer to the corpus mean doc length of 1577.79923761\n"
     ]
    }
   ],
   "source": [
    "print (\"With pivoted normalisation top {} docs have mean length of {}\\\n",
    "   which is much closer to the corpus mean doc length of {}\"\n",
    "   .format(k, sort_length_by_score(doc_scores, X_test)[1][:k].mean(),\n",
    "   sort_length_by_score(doc_scores, X_test)[1].mean()))"
   ]
  },
  {
   "cell_type": "markdown",
   "metadata": {},
   "source": [
    "## Visualizing the pivoted normalization"
   ]
  },
  {
   "cell_type": "markdown",
   "metadata": {},
   "source": [
    "Since cosine normalization favors retrieval of short documents from the plot we can see that when slope was 1 (when pivoted normalisation was not applied) short documents with length of around 500 had very good score hence the bias for short documents can be seen. As we varied the value of slope from 1 to 0 we introdcued a new bias for long documents to counter the bias caused by cosine normalisation. Therefore at a certain point we got an optimum value of slope which is 0.5 where the overall accuracy of the model is increased.\n"
   ]
  },
  {
   "cell_type": "code",
   "execution_count": 15,
   "metadata": {
    "collapsed": false
   },
   "outputs": [
    {
     "data": {
      "image/png": "[encoded data removed]",
      "text/plain": [
       "<matplotlib.figure.Figure at 0x7fdc76404fd0>"
      ]
     },
     "metadata": {},
     "output_type": "display_data"
    }
   ],
   "source": [
    "best_model_accuracy = 0\n",
    "optimum_slope = 0\n",
    "optimum_pivot = 0\n",
    "w = 2\n",
    "h = 2\n",
    "f, axarr = py.subplots(h, w, figsize=(15, 7))\n",
    "\n",
    "it = 0\n",
    "for slope in [1, 0.9, 0.6, 0]:\n",
    "    params = {\"pivot\": 100, \"slope\": slope}\n",
    "\n",
    "    model_accuracy, doc_scores = get_tfidf_scores(params)\n",
    "\n",
    "    if model_accuracy > best_model_accuracy:\n",
    "        best_model_accuracy = model_accuracy\n",
    "        optimum_slope = slope\n",
    "\n",
    "    doc_scores, doc_leng = sort_length_by_score(doc_scores, X_test)\n",
    "\n",
    "    y = abs(doc_scores[:k, np.newaxis])\n",
    "    x = doc_leng[:k, np.newaxis]\n",
    "    py.title(slope)\n",
    "\n",
    "    axarr[it / w, it % w].bar(x, y, width=10)\n",
    "    axarr[it / w, it % w].set_title(\"slope = \" + str(slope) + \" Model accuracy = \" + str(model_accuracy))\n",
    "    axarr[it / w, it % w].set_ylim([0, 2])\n",
    "    axarr[it / w, it % w].set_xlim([0, 3000])\n",
    "    it += 1\n",
    "\n",
    "py.tight_layout()\n",
    "py.show()"
   ]
  },
  {
   "cell_type": "code",
   "execution_count": null,
   "metadata": {
    "collapsed": true
   },
   "outputs": [],
   "source": []
  },
  {
   "cell_type": "markdown",
   "metadata": {},
   "source": [
    "The above histogram plot helps us visualize the effect of `slope`. For top k documents we have document length on the x axis and their respective scores of belonging to a specific class on y axis.  \n",
    "As we decrease the slope the density of bins is shifted from low document length (around ~250-500) to over ~750 document length. This suggests that the positive biasness which was seen at `slope=1` (or when regular tfidf was used) for short documents is now reduced.  \n",
    "But as we continue to decrease the slope to very small values the model accuracy again decreases since now we have introduced a positive biasness for long documents which is again undesirable. So we get the optimum slope or the max model accuracy when slope is 0.9."
   ]
  }
 ],
 "metadata": {
  "kernelspec": {
   "display_name": "Python 2",
   "language": "python",
   "name": "python2"
  },
  "language_info": {
   "codemirror_mode": {
    "name": "ipython",
    "version": 2
   },
   "file_extension": ".py",
   "mimetype": "text/x-python",
   "name": "python",
   "nbconvert_exporter": "python",
   "pygments_lexer": "ipython2",
   "version": "2.7.12"
  }
 },
 "nbformat": 4,
 "nbformat_minor": 1
}
